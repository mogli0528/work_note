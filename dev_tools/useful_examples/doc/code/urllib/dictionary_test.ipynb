{
 "cells": [
  {
   "cell_type": "code",
   "execution_count": 7,
   "metadata": {},
   "outputs": [
    {
     "name": "stdout",
     "output_type": "stream",
     "text": [
      "85\n",
      "59\n",
      "{'Lisa': 85, 'Paul': 73, 'Adam': 95, 'Bart': 59}\n"
     ]
    }
   ],
   "source": [
    "d = {\n",
    "'Adam': 95, #key : value\n",
    "'Lisa': 85,\n",
    "'Bart': 59\n",
    "}\n",
    "\n",
    "print d['Lisa'] \n",
    "\n",
    "if 'Paul' in d:\n",
    "     print d['Paul']\n",
    "else:\n",
    "    d['Paul'] = 72\n",
    "print d.get('Bart')\n",
    "d['Paul'] += 1 \n",
    "print d\n",
    "        "
   ]
  },
  {
   "cell_type": "markdown",
   "metadata": {},
   "source": [
    "遍历/迭代 dict \n",
    "1. for循环遍历：由于dict也是一个集合，所以，遍历dict和遍历list类似，都可以通过 for 循环实现。   \n",
    "2. values() / itervalues() 方法：返回dict 的value值   \n",
    "values()方法：把 dict 转换成了包含 value 的list \n",
    "用 itervalues() 方法替代 values() 方法，迭代效果完全一样。而 itervalues() 方法不会转换，它会在迭代过程中依次从 dict 中取出 value，所以 itervalues() 方法比 values() 方法节省了生成 list 所需的内存。 \n",
    "3. items() / iteritems() 方法：返回dict 的key和value    \n",
    "dict 对象的 items() 方法返回的值：\n",
    "print d.items() \n",
    "[('Lisa', 85), ('Adam', 95), ('Bart', 59)]\n",
    "可以看到，items() 方法把dict对象转换成了包含tuple的list，对这个list进行迭代，可以同时获得key和value：\n",
    "和 values() 有一个 itervalues() 类似， items() 也有一个对应的 iteritems()，iteritems() 不把dict转换成list，而是在迭代过程中不断给出 tuple，所以， iteritems() 不占用额外的内存。"
   ]
  },
  {
   "cell_type": "code",
   "execution_count": 8,
   "metadata": {},
   "outputs": [
    {
     "name": "stdout",
     "output_type": "stream",
     "text": [
      "Lisa - 85\n",
      "Paul - 73\n",
      "Adam - 95\n",
      "Bart - 59\n"
     ]
    }
   ],
   "source": [
    "# 1. for循环遍历：由于dict也是一个集合，所以，遍历dict和遍历list类似，都可以通过 for 循环实现。 \n",
    "for key in d:\n",
    "    print key, '-', d[key]\n",
    "    "
   ]
  },
  {
   "cell_type": "code",
   "execution_count": null,
   "metadata": {},
   "outputs": [],
   "source": []
  }
 ],
 "metadata": {
  "kernelspec": {
   "display_name": "Python 2",
   "language": "python",
   "name": "python2"
  },
  "language_info": {
   "codemirror_mode": {
    "name": "ipython",
    "version": 2
   },
   "file_extension": ".py",
   "mimetype": "text/x-python",
   "name": "python",
   "nbconvert_exporter": "python",
   "pygments_lexer": "ipython2",
   "version": "2.7.6"
  }
 },
 "nbformat": 4,
 "nbformat_minor": 2
}
