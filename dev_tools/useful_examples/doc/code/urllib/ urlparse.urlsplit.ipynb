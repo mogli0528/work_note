{
 "cells": [
  {
   "cell_type": "code",
   "execution_count": 29,
   "metadata": {},
   "outputs": [
    {
     "name": "stdout",
     "output_type": "stream",
     "text": [
      "http www.baidu.com   \n",
      "downloaded.file\n",
      "[]\n",
      "Downloading: http://www.baidu.com Bytes: None\n",
      "          112305\r\n"
     ]
    }
   ],
   "source": [
    "import sys\n",
    "import os\n",
    "import time\n",
    "import tarfile\n",
    "\n",
    "if sys.version_info >= (3,):\n",
    "    import urllib.request as urllib2\n",
    "    import urllib.parse as urlparse\n",
    "else:\n",
    "    import urllib2\n",
    "    import urlparse\n",
    "    import urllib\n",
    "wnid = \"n00007846\"\n",
    "username = \"klm200x11\"\n",
    "accesskey = \"guo4087144!\"\n",
    "#download_url = 'http://www.image-net.org/download/synset?wnid=%s&username=%s&accesskey=%s&release=latest&src=stanford' % (wnid, username, accesskey)\n",
    "download_url = 'http://www.baidu.com'\n",
    "u = urllib2.urlopen(download_url)\n",
    "scheme, netloc, path, query, fragment = urlparse.urlsplit(download_url)\n",
    "print scheme, netloc, path, query, fragment\n",
    "filename = os.path.basename(path)\n",
    "if not filename:\n",
    "        filename = 'downloaded.file'\n",
    "print filename\n",
    "with open(filename, 'wb') as f:\n",
    "        meta = u.info()\n",
    "        meta_func = meta.getheaders if hasattr(meta, 'getheaders') else meta.get_all\n",
    "        \n",
    "        meta_length = meta_func(\"Content-Length\")\n",
    "        print meta_length\n",
    "        \n",
    "        file_size = None\n",
    "        if meta_length:\n",
    "            file_size = int(meta_length[0])\n",
    "        print(\"Downloading: {0} Bytes: {1}\".format(download_url, file_size))\n",
    "\n",
    "        file_size_dl = 0\n",
    "        block_sz = 8192\n",
    "        while True:\n",
    "            buffer = u.read(block_sz)\n",
    "            if not buffer:\n",
    "                break\n",
    "\n",
    "            file_size_dl += len(buffer)\n",
    "            f.write(buffer)\n",
    "\n",
    "            status = \"{0:16}\".format(file_size_dl)\n",
    "            if file_size:\n",
    "                status += \"   [{0:6.2f}%]\".format(file_size_dl * 100 / file_size)\n",
    "            status += chr(13)\n",
    "        print status\n"
   ]
  },
  {
   "cell_type": "code",
   "execution_count": 5,
   "metadata": {},
   "outputs": [
    {
     "name": "stdout",
     "output_type": "stream",
     "text": [
      "False\n"
     ]
    }
   ],
   "source": [
    "print sys.version_info >= (3,)\n",
    "print help(urlparse.urlsplit)\n"
   ]
  },
  {
   "cell_type": "code",
   "execution_count": 32,
   "metadata": {},
   "outputs": [
    {
     "name": "stdout",
     "output_type": "stream",
     "text": [
      "346112 346112\n"
     ]
    }
   ],
   "source": [
    "i= 13*13*2018\n",
    "print 13*13*2048, 26*26*512\n"
   ]
  },
  {
   "cell_type": "code",
   "execution_count": null,
   "metadata": {},
   "outputs": [],
   "source": []
  }
 ],
 "metadata": {
  "kernelspec": {
   "display_name": "Python 2",
   "language": "python",
   "name": "python2"
  },
  "language_info": {
   "codemirror_mode": {
    "name": "ipython",
    "version": 2
   },
   "file_extension": ".py",
   "mimetype": "text/x-python",
   "name": "python",
   "nbconvert_exporter": "python",
   "pygments_lexer": "ipython2",
   "version": "2.7.6"
  }
 },
 "nbformat": 4,
 "nbformat_minor": 2
}
