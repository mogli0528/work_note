{
 "cells": [
  {
   "cell_type": "code",
   "execution_count": 6,
   "metadata": {},
   "outputs": [
    {
     "name": "stdout",
     "output_type": "stream",
     "text": [
      "249990.394948\n",
      "vectorization version:1.05404853821ms\n",
      "249990.394948\n",
      "for loop:274.243831635ms\n"
     ]
    }
   ],
   "source": [
    "import numpy as np\n",
    "import time\n",
    "\n",
    "w = np.random.rand(1000000)\n",
    "x = np.random.rand(1000000)\n",
    "\n",
    "tic = time.time()\n",
    "c = np.dot(w,x)\n",
    "toc = time.time()\n",
    "\n",
    "print c\n",
    "\n",
    "print \"vectorization version:\" + str(1000*(toc-tic)) + \"ms\"\n",
    "\n",
    "c = 0\n",
    "tic = time.time()\n",
    "for i in range(1000000):\n",
    "    c += w[i]*x[i]\n",
    "toc = time.time()\n",
    "print c\n",
    "print \"for loop:\" + str(1000*(toc-tic)) + \"ms\"\n"
   ]
  },
  {
   "cell_type": "code",
   "execution_count": null,
   "metadata": {},
   "outputs": [],
   "source": []
  },
  {
   "cell_type": "code",
   "execution_count": null,
   "metadata": {},
   "outputs": [],
   "source": []
  }
 ],
 "metadata": {
  "kernelspec": {
   "display_name": "Python 2",
   "language": "python",
   "name": "python2"
  },
  "language_info": {
   "codemirror_mode": {
    "name": "ipython",
    "version": 2
   },
   "file_extension": ".py",
   "mimetype": "text/x-python",
   "name": "python",
   "nbconvert_exporter": "python",
   "pygments_lexer": "ipython2",
   "version": "2.7.6"
  }
 },
 "nbformat": 4,
 "nbformat_minor": 2
}
