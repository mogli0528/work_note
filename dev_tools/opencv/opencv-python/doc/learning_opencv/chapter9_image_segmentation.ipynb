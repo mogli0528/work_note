{
 "cells": [
  {
   "cell_type": "markdown",
   "metadata": {},
   "source": [
    "# 第九章 图像局部与分割     \n",
    "  \n",
    "## 局部与分割     \n",
    "\n",
    "\n",
    "\n",
    "\n",
    "## 背景减除     \n",
    "\n",
    "\n",
    "\n",
    "\n",
    "## 场景建模     \n",
    "\n",
    "\n",
    "\n",
    "## 像素片段   \n",
    "\n",
    "\n",
    "\n",
    "## 帧差    \n",
    "\n",
    "\n",
    "\n",
    "## 平均背景法     \n",
    "\n",
    "\n",
    "\n",
    "## 累积均值,方差和协方差    \n",
    "\n",
    "\n",
    "\n",
    "\n",
    "## 高级背景建模    \n",
    "\n",
    "\n",
    "\n",
    "## 用于前景清除的连通部分   \n",
    "\n",
    "\n",
    "\n",
    "\n",
    "## 背景比较法     \n",
    "\n",
    "\n",
    "\n",
    "## 分水岭算法    \n",
    "\n",
    "\n",
    "\n",
    "## 均值漂移分割     \n",
    "\n",
    "\n",
    "## Delaunay 三角剖分和 Voronoi 划分    \n",
    "\n",
    "\n"
   ]
  },
  {
   "cell_type": "code",
   "execution_count": null,
   "metadata": {},
   "outputs": [],
   "source": []
  },
  {
   "cell_type": "markdown",
   "metadata": {},
   "source": [
    "## "
   ]
  }
 ],
 "metadata": {
  "kernelspec": {
   "display_name": "Python 3",
   "language": "python",
   "name": "python3"
  },
  "language_info": {
   "codemirror_mode": {
    "name": "ipython",
    "version": 3
   },
   "file_extension": ".py",
   "mimetype": "text/x-python",
   "name": "python",
   "nbconvert_exporter": "python",
   "pygments_lexer": "ipython3",
   "version": "3.4.3"
  }
 },
 "nbformat": 4,
 "nbformat_minor": 2
}
