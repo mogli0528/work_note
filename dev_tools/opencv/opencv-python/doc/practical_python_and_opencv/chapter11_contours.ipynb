{
 "cells": [
  {
   "cell_type": "markdown",
   "metadata": {},
   "source": [
    "# 轮廓     \n",
    "\n",
    "为了得到轮廓, 需要先获取二值图像.    \n",
    "在下边的例子中, 我们先使用 canny 边缘检测器获取轮廓, 然后数出一共有几个硬币.     \n",
    "\n",
    "## 计算轮廓    "
   ]
  },
  {
   "cell_type": "code",
   "execution_count": 3,
   "metadata": {},
   "outputs": [],
   "source": [
    "import numpy as np\n",
    "import argparse\n",
    "import cv2\n",
    "\n",
    "'''\n",
    "ap = argparse.ArgumentParser()\n",
    "ap.add_argument(\"-i\", \"--image\", required = True, help = \"path to the image\")\n",
    "args = vars(ap.parse_args())\n",
    "image = cv2.imread(args[\"image\"])\n",
    "'''\n",
    "\n",
    "image = cv2.imread(\"../pictures_for_code/coin.jpg\")\n",
    "\n",
    "gray = cv2.cvtColor(image, cv2.COLOR_RGB2GRAY)\n",
    "blured = cv2.GaussianBlur(gray, (11, 11), 0)\n",
    "cv2.imshow(\"image\", image)\n",
    "key = cv2.waitKey(0)\n",
    "\n",
    "## 计算轮廓\n",
    "edge =cv2.Canny(blured, 30, 125)\n",
    "cv2.imshow(\"edge\", edge)\n",
    "\n",
    "key = cv2.waitKey(0)\n",
    "if key:\n",
    "    cv2.destroyAllWindows()"
   ]
  },
  {
   "cell_type": "markdown",
   "metadata": {},
   "source": [
    "**Note:**     \n",
    "- 计算轮廓之前先对图像进行 blur(size = 11) 处理, 是为了更容易检测轮廓.      \n",
    "- 梯度区间的取值非常关键: 这里的选择原则是任何梯度值小于 30 的被认为是没有边缘, 而梯度值大于 150 的区域被认为是边缘值.   \n",
    "\n",
    "## 数出硬币的个数     "
   ]
  },
  {
   "cell_type": "code",
   "execution_count": 4,
   "metadata": {},
   "outputs": [
    {
     "name": "stdout",
     "output_type": "stream",
     "text": [
      "I count 15 coins in this image\n"
     ]
    }
   ],
   "source": [
    "binary,contours,hierarchy = cv2.findContours(edge.copy(), cv2.RETR_EXTERNAL, cv2.CHAIN_APPROX_SIMPLE)\n",
    "\n",
    "print(\"I count %d coins in this image\" % len(contours))\n",
    "\n",
    "coins = image.copy()\n",
    "cv2.drawContours(coins, contours, -1, (0, 255, 0), 2)\n",
    "\n",
    "cv2.imshow(\"Coins\", coins)\n",
    "\n",
    "key = cv2.waitKey(0)\n",
    "if key:\n",
    "    cv2.destroyAllWindows()"
   ]
  },
  {
   "cell_type": "markdown",
   "metadata": {},
   "source": [
    "**cv2.findContours()函数使用说明:**   \n",
    "- 返回值为二值图, tuple 形式的轮廓, 层次结构?    \n",
    "- 因为这个函数会对原图作更改, 因此, 我们传递的第一个参数的原图的拷贝(使用 numpy 的 copy() 函数).    \n",
    "- cv2.RETR_EXTERNAL 指定我们想要的轮廓类型(外圈轮廓), 使用 cv2.RETR_LIST 可以获取所有轮廓. 使用 cv2.RETR_COMP 和 cv2.RETR_TREE 可以获取层级轮廓.    \n",
    "- cv2.CHAIN_APPROX_SIMPLE 指定轮廓的拟合方法, 该方法压缩水平的、垂直的和斜的部分，也就是说函数只保留它们的 end point(终点)部分. 这样可以节省计算时间, 提高效率. 如果不适用压缩方法, 可以使用 cv2.CHAIN_APPROX_NONE 参数(不推荐使用).   \n",
    "\n",
    "**cv2.drawContours()函数使用说明:**   \n",
    "- 第三个参数表示要绘制的轮廓的索引,因此用户可以绘制单个轮廓. 如果为 -1,表示全部绘制.    \n",
    "\n",
    "## 将硬币从原图中裁剪出来    "
   ]
  },
  {
   "cell_type": "code",
   "execution_count": 11,
   "metadata": {},
   "outputs": [
    {
     "name": "stdout",
     "output_type": "stream",
     "text": [
      "coin #1\n",
      "coin #2\n",
      "coin #3\n",
      "coin #4\n",
      "coin #5\n",
      "coin #6\n",
      "coin #7\n",
      "coin #8\n",
      "coin #9\n",
      "coin #10\n",
      "coin #11\n",
      "coin #12\n",
      "coin #13\n",
      "coin #14\n",
      "coin #15\n"
     ]
    }
   ],
   "source": [
    "for i, c in enumerate(contours):\n",
    "    x, y, w, h = cv2.boundingRect(c)\n",
    "    \n",
    "    print(\"coin #%d\" %(i+1))\n",
    "    \n",
    "    if i == 0:\n",
    "        coin = image[y:y+h, x:x+w]\n",
    "        cv2.imshow(\"coin\", coin)\n",
    "\n",
    "        mask = np.zeros(image.shape[:2], dtype=\"uint8\")\n",
    "        ((centerX, centerY), radius) = cv2.minEnclosingCircle(c)\n",
    "        cv2.circle(mask, (int(centerX), int(centerY)), int(radius), 255, -1)\n",
    "        mask= mask[y:y+h, x:x+w]\n",
    "\n",
    "        cv2.imshow(\"masked coin\", cv2.bitwise_and(coin, coin, mask=mask))\n",
    "\n",
    "key = cv2.waitKey(0)\n",
    "if key:  \n",
    "    cv2.destroyAllWindows()"
   ]
  },
  {
   "cell_type": "markdown",
   "metadata": {},
   "source": [
    "**cv2.boundingRect() 函数使用说明:**     \n",
    "- 在当前轮廓上使用 cv2.boundingRect() 函数, 该方法会返回一个轮廓的最小包围 box.   \n",
    "- box 的表示方式为矩形的左上角位置 x, y 和 矩形的宽和高(w, h).   "
   ]
  }
 ],
 "metadata": {
  "kernelspec": {
   "display_name": "Python 3",
   "language": "python",
   "name": "python3"
  },
  "language_info": {
   "codemirror_mode": {
    "name": "ipython",
    "version": 3
   },
   "file_extension": ".py",
   "mimetype": "text/x-python",
   "name": "python",
   "nbconvert_exporter": "python",
   "pygments_lexer": "ipython3",
   "version": "3.4.3"
  }
 },
 "nbformat": 4,
 "nbformat_minor": 2
}
