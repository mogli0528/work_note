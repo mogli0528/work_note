{
 "cells": [
  {
   "cell_type": "markdown",
   "metadata": {},
   "source": [
    "# 第六章 图像运算      \n",
    "\n",
    "## 加减法    \n",
    "\n",
    "**Note**:\n",
    "1. 算术运算需要注意 color space 和 data type.   \n",
    "2. opencv 和 numpy 的处理方式不同,根据需要进行选择.   \n",
    "   opencv 内部的处理方式: 截取; numpy 内部的处理方式: 回绕.  "
   ]
  },
  {
   "cell_type": "code",
   "execution_count": 2,
   "metadata": {},
   "outputs": [
    {
     "name": "stdout",
     "output_type": "stream",
     "text": [
      "cv2: max of 255: [[255]]\n",
      "cv2: min of 0: [[0]]\n",
      "wrap around + : [44]\n",
      "wrap around - : [176]\n"
     ]
    }
   ],
   "source": [
    "import numpy as np \n",
    "import cv2\n",
    "\n",
    "image = cv2.imread(\"../pictures_for_code/building.jpg\")\n",
    "\n",
    "# opencv 内部的处理方式: 截取\n",
    "print(\"cv2: max of 255: \" + str(cv2.add(np.uint8([200]), np.uint8([100]))))\n",
    "print(\"cv2: min of 0: \" + str(cv2.subtract(np.uint8([50]), np.uint8([100]))))\n",
    "\n",
    "# numpy 内部的处理方式: 回绕\n",
    "print(\"wrap around + : \" + str(np.uint8([200]) + np.uint8([100])))\n",
    "print(\"wrap around - : \" + str(np.uint8([20]) - np.uint8([100])))\n",
    "\n",
    "M = np.ones(image.shape, dtype = \"uint8\")*100   \n",
    "added = cv2.add(image, M)\n",
    "cv2.imshow(\"Add\", added)\n",
    "\n",
    "M = np.ones(image.shape, dtype = \"uint8\")*50\n",
    "subtracted = cv2.subtract(image, M)\n",
    "cv2.imshow(\"Subtract\", subtracted)\n",
    "\n",
    "key = cv2.waitKey(0)\n",
    "if key:\n",
    "    cv2.destroyAllWindows()"
   ]
  },
  {
   "cell_type": "markdown",
   "metadata": {},
   "source": [
    "## 位运算     \n",
    "\n",
    "当一个给定的像素值大于 0 ,说明这个像素是 True (white); 当一个给定的像素值等于 0 ,说明这个像素是 False (black).   \n",
    "\n",
    "1. and: 两个像素值均大于 0 , 为 true    \n",
    "2. or:  其中一个像素值大于 0 , 为 true    \n",
    "3. xor: 两个像素值不同, 为 true    \n",
    "4. not: 像素值反转    \n",
    "\n",
    "\n",
    "**四个位运算函数**:    \n",
    "- cv2.bitwise_and(src1, src2[, dst[, mask]]) → dst;    \n",
    "- cv2.bitwise_or(src1, src2[, dst[, mask]]) → dst;   \n",
    "- cv2.bitwise_xor(src1, src2[, dst[, mask]]) → dst;    \n",
    "- cv2.bitwise_not(src[, dst[, mask]]) → dst;    \n"
   ]
  },
  {
   "cell_type": "code",
   "execution_count": 6,
   "metadata": {},
   "outputs": [],
   "source": [
    "import numpy as np \n",
    "import cv2\n",
    "\n",
    "rectangle = np.zeros((300,300), dtype = \"uint8\")\n",
    "circle = np.zeros((300,300), dtype = \"uint8\")\n",
    "\n",
    "## 绘制圆和矩形   \n",
    "cv2.rectangle(rectangle, (25,25), (275, 275), 255, -1)\n",
    "cv2.circle(circle, (150, 150), 150, 255, -1)\n",
    "cv2.imshow(\"Rectangle\", rectangle)\n",
    "cv2.imshow(\"Circle\", circle)\n",
    "\n",
    "bitwise_and = cv2.bitwise_and(rectangle, circle)\n",
    "cv2.imshow(\"And\", bitwise_and)\n",
    "\n",
    "bitwise_or = cv2.bitwise_or(rectangle, circle)\n",
    "cv2.imshow(\"Or\", bitwise_or)\n",
    "\n",
    "bitwise_xor = cv2.bitwise_xor(rectangle, circle)\n",
    "cv2.imshow(\"Xor\", bitwise_xor)\n",
    "\n",
    "bitwise_not = cv2.bitwise_not(circle)\n",
    "cv2.imshow(\"Not\", bitwise_not)\n",
    "\n",
    "key = cv2.waitKey(0)\n",
    "if key:\n",
    "    cv2.destroyAllWindows()"
   ]
  },
  {
   "cell_type": "markdown",
   "metadata": {},
   "source": [
    "## mask 掩模运算   \n",
    "\n",
    "提取感兴趣的图像内容(还可以使用crop).    \n",
    "\n",
    "实际调用的还是 cv2.bitwise_and() 函数.    "
   ]
  },
  {
   "cell_type": "code",
   "execution_count": 8,
   "metadata": {},
   "outputs": [],
   "source": [
    "import cv2\n",
    "import numpy as np\n",
    "import copy\n",
    "\n",
    "image = cv2.imread(\"../pictures_for_code/building.jpg\")\n",
    "\n",
    "image_copy = copy.deepcopy(image)\n",
    "\n",
    "(h, w) = image.shape[:2]\n",
    "mask = np.zeros((h, w), dtype = \"uint8\")\n",
    "\n",
    "# 绘制一个白色的矩形       \n",
    "(c_x, c_y) = (int(w / 2), int(h / 2))\n",
    "cv2.rectangle(mask, (c_x - 75, c_y - 75), (c_x + 75, c_y + 75), 255, -1)\n",
    "cv2.imshow(\"Mask\", mask)\n",
    "\n",
    "masked = cv2.bitwise_and(image, image, mask=mask)\n",
    "cv2.imshow(\"Rectangle Masked\", masked)\n",
    "\n",
    "mask = np.zeros((h, w), dtype = \"uint8\")\n",
    "cv2.circle(mask, (c_x, c_y), 100, 255, -1)\n",
    "masked = cv2.bitwise_and(image_copy, image_copy, mask=mask)\n",
    "cv2.imshow(\"Circle Masked\", masked)\n",
    "\n",
    "key = cv2.waitKey(0)\n",
    "if key:\n",
    "    cv2.destroyAllWindows()"
   ]
  },
  {
   "cell_type": "markdown",
   "metadata": {},
   "source": [
    "## 通道切分和合并   \n",
    "\n",
    "实际调用的还是 cv2.split() 函数.     \n",
    "\n",
    "**函数原型**:     \n",
    "- cv2.split(m[, mv]) → mv;    \n",
    "- cv2.merge(mv[, dst]) → dst;    "
   ]
  },
  {
   "cell_type": "code",
   "execution_count": 10,
   "metadata": {},
   "outputs": [],
   "source": [
    "import numpy as np \n",
    "import cv2\n",
    "import copy\n",
    "\n",
    "image = cv2.imread(\"../pictures_for_code/building.jpg\")\n",
    "\n",
    "image_copy = copy.deepcopy(image)\n",
    "\n",
    "(b,g,r) = cv2.split(image)\n",
    "cv2.imshow(\"Blue\", b)\n",
    "cv2.imshow(\"Green\", g)\n",
    "cv2.imshow(\"Red\", r)\n",
    "\n",
    "merged = cv2.merge([b,g,r])\n",
    "cv2.imshow(\"Merged\", merged)\n",
    "\n",
    "zero = np.zeros(image.shape[:2], dtype=\"uint8\")\n",
    "cv2.imshow(\"Blue_3ch\", cv2.merge([b, zero, zero]))\n",
    "cv2.imshow(\"Green_3ch\", cv2.merge([zero, g, zero]))\n",
    "cv2.imshow(\"Red_3ch\", cv2.merge([zero, zero, r]))\n",
    "\n",
    "key = cv2.waitKey(0)\n",
    "if key:\n",
    "    cv2.destroyAllWindows()"
   ]
  },
  {
   "cell_type": "markdown",
   "metadata": {},
   "source": [
    "## 颜色空间     \n",
    "\n",
    "常用的颜色空间有 RGB, HSV, LAB.    \n",
    "   "
   ]
  },
  {
   "cell_type": "code",
   "execution_count": 11,
   "metadata": {},
   "outputs": [],
   "source": [
    "import numpy as np \n",
    "import cv2\n",
    "\n",
    "image = cv2.imread(\"../pictures_for_code/building.jpg\")\n",
    "\n",
    "gray = cv2.cvtColor(image, cv2.COLOR_BGR2GRAY)\n",
    "hsv = cv2.cvtColor(image, cv2.COLOR_BGR2HSV)\n",
    "lab = cv2.cvtColor(image, cv2.COLOR_BGR2LAB)\n",
    "\n",
    "cv2.imshow(\"gray\", gray)\n",
    "cv2.imshow(\"hsv\", hsv)\n",
    "cv2.imshow(\"lab\", lab)\n",
    "\n",
    "key = cv2.waitKey(0)\n",
    "if key:\n",
    "    cv2.destroyAllWindows()"
   ]
  },
  {
   "cell_type": "code",
   "execution_count": null,
   "metadata": {},
   "outputs": [],
   "source": []
  }
 ],
 "metadata": {
  "kernelspec": {
   "display_name": "Python 3",
   "language": "python",
   "name": "python3"
  },
  "language_info": {
   "codemirror_mode": {
    "name": "ipython",
    "version": 3
   },
   "file_extension": ".py",
   "mimetype": "text/x-python",
   "name": "python",
   "nbconvert_exporter": "python",
   "pygments_lexer": "ipython3",
   "version": "3.4.3"
  }
 },
 "nbformat": 4,
 "nbformat_minor": 2
}
