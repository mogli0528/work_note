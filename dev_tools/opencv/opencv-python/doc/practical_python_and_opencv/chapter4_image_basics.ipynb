{
 "cells": [
  {
   "cell_type": "markdown",
   "metadata": {},
   "source": [
    "# 第四章 图像基础     \n",
    "\n",
    "## 常用的颜色表    \n",
    "\n",
    "|color|rgb 值|\n",
    "|----|----|\n",
    "|Black|(0,0,0)|\n",
    "|White| (255,255,255)|\n",
    "|Red|(255,0,0)|\n",
    "|Green|(0,255,0)|\n",
    "|Blue|(0,0,255)|\n",
    "|Aqua|(0,255,255)|\n",
    "|Fuchsia|(255,0,255)|\n",
    "|Maroon|(128,0,0)|\n",
    "|Navy|(0,0,128)|\n",
    "|Olive|(128,128,0)|\n",
    "|Purple|(128,0,128)|\n",
    "|Teal|(0,128,128)|\n",
    "|Yellow|(255,255,0)|\n",
    "\n",
    "\n",
    "## 访问和操作像素值    \n",
    "\n",
    "**Note**:    \n",
    "\n",
    "1. opencv 中保存图片的 RGB 通道值是反向的.  \n",
    "2. numpy 切片格式: `image[y_start:y_end, x_start:x_end]`       "
   ]
  },
  {
   "cell_type": "code",
   "execution_count": 1,
   "metadata": {},
   "outputs": [
    {
     "name": "stdout",
     "output_type": "stream",
     "text": [
      "Pixel at (0, 0) - Red: 177, Green: 206, Blue: 224\n",
      "Pixel at (0, 0) - Red: 255, Green: 0, Blue: 0\n"
     ]
    }
   ],
   "source": [
    "import cv2\n",
    "\n",
    "image = cv2.imread(\"../pictures_for_code/building.jpg\")\n",
    "\n",
    "# 更改一个像素的值   \n",
    "(b, g, r) = image[0, 0]\n",
    "print(\"Pixel at (0, 0) - Red: %d, Green: %d, Blue: %d\" % (r, g, b))\n",
    "image[0, 0] = (0, 0, 255)\n",
    "(b, g, r) = image[0, 0]\n",
    "print(\"Pixel at (0, 0) - Red: %d, Green: %d, Blue: %d\" % (r, g, b))\n",
    "\n",
    "# 更改一大块像素值, numpy 切片格式: image[y_start:y_end, x_start:x_end]\n",
    "corner = image[0:100, 0:150]\n",
    "image[0:100, 0:150] = (0, 0, 255)\n",
    "cv2.imshow(\"corner\", corner)\n",
    "cv2.imshow(\"updata\", image)\n",
    "\n",
    "key = cv2.waitKey(0)\n",
    "if key: \n",
    "    cv2.destroyAllWindows()"
   ]
  },
  {
   "cell_type": "markdown",
   "metadata": {},
   "source": [
    "## 绘制图形    \n",
    "\n",
    "**Note**:\n",
    "- OpenCV 使用的矩阵结构是 numpy 数据结构. 因此初始化一张空白画布, 需要使用 numpy 结构.    \n",
    "- cv2.line(img, pt1, pt2, color[, thickness[, lineType[, shift]]]) → img;    \n",
    "- cv2.rectangle(img, pt1, pt2, color[, thickness[, lineType[, shift]]]) → img;    \n",
    "- cv2.circle(img, center, radius, color[, thickness[, lineType[, shift]]]) → img;    "
   ]
  },
  {
   "cell_type": "code",
   "execution_count": 10,
   "metadata": {},
   "outputs": [],
   "source": [
    "# 绘制直线/矩形/圆\n",
    "import numpy as np\n",
    "import cv2\n",
    "import copy\n",
    "\n",
    "canvas = np.zeros((300, 300, 3), dtype = np.uint8)\n",
    "\n",
    "blue = (255, 0, 0)\n",
    "green = (0, 255, 0)\n",
    "red = (0, 0, 255)\n",
    "\n",
    "# 绘制直线   \n",
    "canvas_line = canvas.copy()\n",
    "cv2.line(canvas_line, (0,0), (300, 300), green, 3)\n",
    "cv2.line(canvas_line, (300,0), (0, 300), red)\n",
    "cv2.imshow(\"canvas_line\", canvas_line)\n",
    "\n",
    "# 绘制矩形\n",
    "canvas_rect = canvas.copy()\n",
    "cv2.rectangle(canvas_rect, (10, 10), (60, 60), green)\n",
    "cv2.rectangle(canvas_rect, (50, 200), (200, 225), red, 3)\n",
    "cv2.rectangle(canvas_rect, (200, 50), (225, 125), blue, -1) # 绘制一个实体的矩形 solid(-1) \n",
    "cv2.imshow(\"canvas_rect\", canvas_rect)\n",
    "\n",
    "# 绘制圆   \n",
    "canvas_circle = copy.deepcopy(canvas)\n",
    "(center_x, center_y) = (int(canvas.shape[1]/2), int(canvas.shape[1]/2))\n",
    "center = (center_x, center_y)\n",
    "white = (255, 255, 255)\n",
    "\n",
    "for r in range(0, 175, 25):\n",
    "    cv2.circle(canvas_circle, center, r, white, 3)\n",
    "cv2.imshow(\"canvas_circle\", canvas_circle)\n",
    "\n",
    "canvas_copy = copy.deepcopy(canvas)\n",
    "for i in range(25):\n",
    "    radius = np.random.randint(5, high=200)\n",
    "    color = np.random.randint(0, high=256, size=(3,)).tolist()\n",
    "    pt = np.random.randint(0, high=300, size=(2,)).tolist()\n",
    "\n",
    "    cv2.circle(canvas_copy, tuple(pt), radius, color, -1)\n",
    "\n",
    "cv2.imshow(\"abstract_circle\", canvas_copy)\n",
    "    \n",
    "key = cv2.waitKey(0)\n",
    "if key: \n",
    "    cv2.destroyAllWindows()"
   ]
  }
 ],
 "metadata": {
  "kernelspec": {
   "display_name": "Python 3",
   "language": "python",
   "name": "python3"
  },
  "language_info": {
   "codemirror_mode": {
    "name": "ipython",
    "version": 3
   },
   "file_extension": ".py",
   "mimetype": "text/x-python",
   "name": "python",
   "nbconvert_exporter": "python",
   "pygments_lexer": "ipython3",
   "version": "3.4.3"
  }
 },
 "nbformat": 4,
 "nbformat_minor": 2
}
