{
 "cells": [
  {
   "cell_type": "markdown",
   "metadata": {},
   "source": [
    "# 第五章 图像变换  \n",
    "\n",
    "## 平移     \n",
    "\n",
    "沿着 x 或 y 轴对图形进行平移.    "
   ]
  },
  {
   "cell_type": "code",
   "execution_count": 1,
   "metadata": {},
   "outputs": [],
   "source": [
    "# 平移矩阵  \n",
    "import numpy as np\n",
    "import cv2\n",
    "\n",
    "image = cv2.imread(\"../pictures_for_code/building.jpg\")\n",
    "# M = np.float32([[1, 0, x], [0, 1, y]])   # x, y 表示各个方向上的偏移\n",
    "## [[1, 0, 25], [0, 1, 50]]\n",
    "## 其中 [1, 0, 25] 的 25 表示要右移的像素值,负数表示左移   \n",
    "## 其中 [0, 1, 50] 的 50 表示要上移的像素值,负数表示下移   \n",
    "M = np.float32([[1, 0, 25], [0, 1, 50]])\n",
    "shifted = cv2.warpAffine(image, M, (image.shape[1], image.shape[0]))\n",
    "cv2.imshow(\"Shifted down and right\", shifted)\n",
    "\n",
    "M = np.float32([[1, 0, -50], [0, 1, -90]])\n",
    "shifted = cv2.warpAffine(image, M, (image.shape[1], image.shape[0]))\n",
    "cv2.imshow(\"Shifted up and left\", shifted)\n",
    "\n",
    "key = cv2.waitKey(0)\n",
    "if key: \n",
    "    cv2.destroyAllWindows()"
   ]
  },
  {
   "cell_type": "markdown",
   "metadata": {},
   "source": [
    "## 旋转    \n",
    "\n",
    "**获取旋转矩阵的函数**:    \n",
    "- cv2.getRotationMatrix2D(center, angle, scale) → map_matrix;    \n",
    "- center: 源图像中的旋转中心.   \n",
    "- angle: 旋转角度(单位为度). 正值表示顺时针旋转(坐标原点在左上角).  \n",
    "- scale: 各向同性缩放因子.    \n",
    "- map_matrix: 输出的仿射变换矩阵, 2x3 浮点数矩阵.    "
   ]
  },
  {
   "cell_type": "code",
   "execution_count": 2,
   "metadata": {},
   "outputs": [],
   "source": [
    "# 旋转矩阵  \n",
    "## [[1, 0, 25], [0, 1, 50]]\n",
    "## 其中 [1, 0, 25] 的 25 表示要右移的像素值,负数表示左移   \n",
    "## 其中 [0, 1, 50] 的 50 表示要上移的像素值,负数表示下移   \n",
    "(h, w) = image.shape[:2]\n",
    "center = (w / 2, h / 2)\n",
    "\n",
    "M = cv2.getRotationMatrix2D(center, 45, 0.5)\n",
    "rotated = cv2.warpAffine(image, M, (w, h))\n",
    "cv2.imshow(\"Rotated by 45 degrees\", rotated)\n",
    "\n",
    "M = cv2.getRotationMatrix2D(center, -90, 0.5)\n",
    "rotated = cv2.warpAffine(image, M, (w, h))\n",
    "cv2.imshow(\"Rotated by -90 degrees\", rotated)\n",
    "\n",
    "M = cv2.getRotationMatrix2D(center, 180, 0.8)\n",
    "rotated = cv2.warpAffine(image, M, (w, h))\n",
    "cv2.imshow(\"Rotated by 180 Degrees\", rotated)\n",
    "\n",
    "key = cv2.waitKey(0)\n",
    "if key: \n",
    "    cv2.destroyAllWindows()"
   ]
  },
  {
   "cell_type": "markdown",
   "metadata": {},
   "source": [
    "# resize 操作   \n",
    "\n",
    "resize 时需要保证图像的长宽比不变, 这样图像就不会变形.     \n",
    "\n",
    "**cv2.resize() 函数**:   \n",
    "- cv2.resize(src, dsize[, dst[, fx[, fy[, interpolation]]]]) → dst;    \n"
   ]
  },
  {
   "cell_type": "code",
   "execution_count": 3,
   "metadata": {},
   "outputs": [],
   "source": [
    "## 计算长宽比不变条件下新的图像 shape   \n",
    "(h, w) = image.shape[:2]\n",
    "r = 150.0 / w\n",
    "dim = (150, int(r*h))\n",
    "\n",
    "resized = cv2.resize(image, dim, interpolation = cv2.INTER_LINEAR)\n",
    "cv2.imshow(\"Resized\", resized)\n",
    "\n",
    "r = 200.0 / h\n",
    "dim = (int(r*w), 200)\n",
    "resized = cv2.resize(image, dim, interpolation = cv2.INTER_LINEAR)\n",
    "cv2.imshow(\"Resized_height\", resized)\n",
    "\n",
    "key = cv2.waitKey(0)\n",
    "if key: \n",
    "    cv2.destroyAllWindows()"
   ]
  },
  {
   "cell_type": "markdown",
   "metadata": {},
   "source": [
    "## imtils   \n",
    "\n",
    "以下是提炼出的图像变换操作.     "
   ]
  },
  {
   "cell_type": "code",
   "execution_count": 5,
   "metadata": {},
   "outputs": [],
   "source": [
    "#!/usr/bin/env python\n",
    "#coding=utf-8\n",
    "\n",
    "import numpy as np\n",
    "import cv2\n",
    "\n",
    "# 平移\n",
    "def shift(image, x, y):\n",
    "    M = np.float32([[1, 0, x], [0, 1, y]])\n",
    "    shifted = cv2.warpAffine(image, M, (image.shape[1], image.shape[0]))\n",
    "\n",
    "    return shifted\n",
    "\n",
    "# 旋转变换\n",
    "def rotate(image, angle, center = None, scale = 1.0):\n",
    "    (h, w) = image.shape[:2]\n",
    "\n",
    "    if center is None:\n",
    "        center = (w / 2, h / 2)\n",
    "\n",
    "    M = cv2.getRotationMatrix2D(center, angle, scale)\n",
    "\n",
    "    return cv2.warpAffine(image, M, (w, h))\n",
    "\n",
    "\n",
    "def resize(image, width=None, height=None, inter=cv2.INTER_LINEAR):\n",
    "\n",
    "    dim = None\n",
    "\n",
    "    (h,w) = image.shape[:2]\n",
    "\n",
    "    if width is None and height is None:\n",
    "        return image\n",
    "\n",
    "    if height is not None:\n",
    "        r = height / float(h)\n",
    "        dim = (int(r*w), height)\n",
    "    else:\n",
    "        r = width / float(w)\n",
    "        dim = (width, int(r*h))\n",
    "\n",
    "    return cv2.resize(image, dim, interpolation = inter)"
   ]
  },
  {
   "cell_type": "markdown",
   "metadata": {},
   "source": [
    "## Flip 翻转操作     \n",
    "\n",
    "**cv2.flip() 函数**:    \n",
    "- cv2.flip(src, flipCode[, dst]) → dst;    \n",
    "- flipCode == 0, 垂直翻转, 上半部和下半部交换.     \n",
    "- flipCode > 0, 水平翻转, 左半部和右半部交换.   \n",
    "- flipCode < 0, 同时执行水平和垂直翻转.   "
   ]
  },
  {
   "cell_type": "code",
   "execution_count": 7,
   "metadata": {},
   "outputs": [],
   "source": [
    "# flip   \n",
    "image = cv2.imread(\"../pictures_for_code/building.jpg\")\n",
    "\n",
    "flipped = cv2.flip(image, 1)\n",
    "cv2.imshow(\"Flipped Horizontally\", flipped)\n",
    "\n",
    "flipped = cv2.flip(image, 0)\n",
    "cv2.imshow(\"Flipped Vertically\", flipped)\n",
    "\n",
    "flipped = cv2.flip(image, -1)\n",
    "cv2.imshow(\"Flipped Horizonlly & Vertically\", flipped)\n",
    "\n",
    "key = cv2.waitKey(0)\n",
    "if key: \n",
    "    cv2.destroyAllWindows()"
   ]
  },
  {
   "cell_type": "markdown",
   "metadata": {},
   "source": [
    "## \tCrop 操作  \n",
    "\n",
    "Crop 操作并没有直接的函数操作, 是通过 numpy 的切片功能实现的.   "
   ]
  },
  {
   "cell_type": "code",
   "execution_count": 8,
   "metadata": {},
   "outputs": [],
   "source": [
    "# crop   \n",
    "# 裁剪框的左上角点是(240, 30),右上角点(335, 120) \n",
    "# numpy slice 的 4 个 indexs: [start_y:end_y, start_x:end_x]   \n",
    "\n",
    "image = cv2.imread(\"../pictures_for_code/building.jpg\")\n",
    "\n",
    "cropped = image[30:120, 240:335]\n",
    "cv2.imshow(\"Cropped\", cropped)\n",
    "\n",
    "key = cv2.waitKey(0)\n",
    "if key: \n",
    "    cv2.destroyAllWindows()"
   ]
  },
  {
   "cell_type": "code",
   "execution_count": null,
   "metadata": {},
   "outputs": [],
   "source": []
  }
 ],
 "metadata": {
  "kernelspec": {
   "display_name": "Python 3",
   "language": "python",
   "name": "python3"
  },
  "language_info": {
   "codemirror_mode": {
    "name": "ipython",
    "version": 3
   },
   "file_extension": ".py",
   "mimetype": "text/x-python",
   "name": "python",
   "nbconvert_exporter": "python",
   "pygments_lexer": "ipython3",
   "version": "3.4.3"
  }
 },
 "nbformat": 4,
 "nbformat_minor": 2
}
