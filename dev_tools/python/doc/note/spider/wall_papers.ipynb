{
 "cells": [
  {
   "cell_type": "markdown",
   "metadata": {},
   "source": [
    "# python 爬虫相关\n",
    "## 1. class 定义和使用"
   ]
  },
  {
   "cell_type": "code",
   "execution_count": 11,
   "metadata": {},
   "outputs": [],
   "source": [
    "import os\n",
    "import requests\n",
    "import time\n",
    "import random\n",
    "from lxml import etree\n",
    "\n",
    "\n",
    "class Spider(object):\n",
    "    def __init__(self, savePath, keyWord):\n",
    "        self.headers = {\n",
    "            \"User-Agent\": \"Mozilla/5.0 (Macintosh; Intel Mac OS X 10_12_5) AppleWebKit/537.36 (KHTML, like Gecko) Chrome/59.0.3071.104 Safari/537.36\",\n",
    "        }\n",
    "        self.keyWord = keyWord\n",
    "        self.filePath = (savePath + keyWord + '/')\n",
    "    def createFile(self):\n",
    "        filePath = self.filePath\n",
    "        if not os.path.exists(filePath):\n",
    "            os.makedirs(filePath)\n",
    "    def getPageNum(self):\n",
    "        #用来获取搜索关键词得到的结果总页面数,用totalPagenum记录。由于数字是夹在形如：1,985 Wallpapers found for “dog”的string中，\n",
    "        #所以需要用个小函数，提取字符串中的数字保存到列表numlist中，再逐个拼接成完整数字。。。\n",
    "        total = \"\"\n",
    "        url = (\"https://alpha.wallhaven.cc/search?q={}&categories=111&purity=100&sorting=relevance&order=desc\").format(self.keyWord)\n",
    "        html = requests.get(url)\n",
    "        selector = etree.HTML(html.text)\n",
    "        pageInfo = selector.xpath('//header[@class=\"listing-header\"]/h1[1]/text()')\n",
    "        string = str(pageInfo[0])\n",
    "        numList = list(filter(str.isdigit, string))\n",
    "        for item in numList:\n",
    "            total += item\n",
    "        totalPageNum = int(total)\n",
    "        return totalPageNum\n",
    "    \n",
    "    def main_func(self):\n",
    "        count = self.getPageNum()\n",
    "        print(\"We have found:{} images!\".format(count))\n"
   ]
  },
  {
   "cell_type": "code",
   "execution_count": 13,
   "metadata": {},
   "outputs": [
    {
     "name": "stdout",
     "output_type": "stream",
     "text": [
      "{'User-Agent': 'Mozilla/5.0 (Macintosh; Intel Mac OS X 10_12_5) AppleWebKit/537.36 (KHTML, like Gecko) Chrome/59.0.3071.104 Safari/537.36'} /home/klm/work/spider/girl/\n",
      "We have found:85264 images!\n"
     ]
    }
   ],
   "source": [
    "s = Spider(\"/home/klm/work/spider/\", \"girl\")\n",
    "print s.headers, s.filePath\n",
    "s.main_func()"
   ]
  },
  {
   "cell_type": "code",
   "execution_count": null,
   "metadata": {},
   "outputs": [],
   "source": []
  },
  {
   "cell_type": "code",
   "execution_count": null,
   "metadata": {},
   "outputs": [],
   "source": []
  }
 ],
 "metadata": {
  "kernelspec": {
   "display_name": "Python 2",
   "language": "python",
   "name": "python2"
  },
  "language_info": {
   "codemirror_mode": {
    "name": "ipython",
    "version": 2
   },
   "file_extension": ".py",
   "mimetype": "text/x-python",
   "name": "python",
   "nbconvert_exporter": "python",
   "pygments_lexer": "ipython2",
   "version": "2.7.6"
  }
 },
 "nbformat": 4,
 "nbformat_minor": 2
}
